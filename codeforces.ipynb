{
  "nbformat": 4,
  "nbformat_minor": 0,
  "metadata": {
    "colab": {
      "name": "codeforces.ipynb",
      "provenance": [],
      "machine_shape": "hm",
      "authorship_tag": "ABX9TyO95DiRmqx2U2GE1jfi59cJ",
      "include_colab_link": true
    },
    "kernelspec": {
      "name": "python3",
      "display_name": "Python 3"
    }
  },
  "cells": [
    {
      "cell_type": "markdown",
      "metadata": {
        "id": "view-in-github",
        "colab_type": "text"
      },
      "source": [
        "<a href=\"https://colab.research.google.com/github/FazleRabbbiferdaus172/codeforces/blob/master/codeforces.ipynb\" target=\"_parent\"><img src=\"https://colab.research.google.com/assets/colab-badge.svg\" alt=\"Open In Colab\"/></a>"
      ]
    },
    {
      "cell_type": "markdown",
      "metadata": {
        "id": "gfGW7El6zDTA",
        "colab_type": "text"
      },
      "source": [
        "A. Wrong Subtraction"
      ]
    },
    {
      "cell_type": "code",
      "metadata": {
        "id": "svN4_g7TSSa7",
        "colab_type": "code",
        "outputId": "f2a8be08-72a7-422c-c5e7-0b712f35a63d",
        "colab": {
          "base_uri": "https://localhost:8080/",
          "height": 51
        }
      },
      "source": [
        "n,k = [int(x) for x in input().split()]\n",
        "for i in range(k):\n",
        "    if(n%10==0):\n",
        "        n //= 10\n",
        "    else:\n",
        "        n -= 1\n",
        "print(n)"
      ],
      "execution_count": 0,
      "outputs": [
        {
          "output_type": "stream",
          "text": [
            "1000000000 9\n",
            "1\n"
          ],
          "name": "stdout"
        }
      ]
    },
    {
      "cell_type": "markdown",
      "metadata": {
        "id": "xShMJuNS6YfV",
        "colab_type": "text"
      },
      "source": [
        "1030A.In Search of an Easy Problem"
      ]
    },
    {
      "cell_type": "code",
      "metadata": {
        "id": "abwbe2_06gzf",
        "colab_type": "code",
        "outputId": "79bf912b-b63b-4760-82cb-ce6690cfa74d",
        "colab": {
          "base_uri": "https://localhost:8080/",
          "height": 68
        }
      },
      "source": [
        "n = int(input())\n",
        "l = input()\n",
        "\n",
        "if(l.find('1')>-1):\n",
        "    print(\"HARD\")\n",
        "else:\n",
        "    print(\"EASY\")"
      ],
      "execution_count": 0,
      "outputs": [
        {
          "output_type": "stream",
          "text": [
            "1\n",
            "0\n",
            "EASY\n"
          ],
          "name": "stdout"
        }
      ]
    },
    {
      "cell_type": "markdown",
      "metadata": {
        "id": "FtpYrJgf_1AB",
        "colab_type": "text"
      },
      "source": [
        "1281A.Suffix Three"
      ]
    },
    {
      "cell_type": "code",
      "metadata": {
        "id": "h8XFs72p_6RC",
        "colab_type": "code",
        "colab": {}
      },
      "source": [
        "n = int(input())\n",
        "while(n>0):\n",
        "    k = input()\n",
        "    if k[len(k)-2:]==\"po\":\n",
        "        print(\"FILIPINO\")\n",
        "    elif k[len(k)-4:]==\"desu\" or k[len(k)-4:]==\"masu\":\n",
        "        print(\"JAPANESE\")\n",
        "    elif k[len(k)-5:]==\"mnida\":\n",
        "        print(\"KOREAN\")\n",
        "    n -= 1\n"
      ],
      "execution_count": 0,
      "outputs": []
    },
    {
      "cell_type": "code",
      "metadata": {
        "id": "mhvNjsJLRrpk",
        "colab_type": "code",
        "colab": {}
      },
      "source": [
        ""
      ],
      "execution_count": 0,
      "outputs": []
    },
    {
      "cell_type": "markdown",
      "metadata": {
        "id": "VDZmgonfHuxy",
        "colab_type": "text"
      },
      "source": [
        "1328A. Divisibility Problem"
      ]
    },
    {
      "cell_type": "code",
      "metadata": {
        "id": "s1CiPf8VH5RO",
        "colab_type": "code",
        "outputId": "19d50b57-db45-4860-8d30-b58b2a8c9248",
        "colab": {
          "base_uri": "https://localhost:8080/",
          "height": 204
        }
      },
      "source": [
        "t = int(input())\n",
        "\n",
        "while(t):\n",
        "    a,b = [int(x) for x in input().split()]\n",
        "    if a%b == 0 :\n",
        "        k =0\n",
        "    else:    \n",
        "        k = b - (a%b)\n",
        "    print(k)\n",
        "    t -= 1"
      ],
      "execution_count": 0,
      "outputs": [
        {
          "output_type": "stream",
          "text": [
            "5\n",
            "10 4\n",
            "2\n",
            "13 9\n",
            "5\n",
            "100 13\n",
            "4\n",
            "123 456\n",
            "333\n",
            "92 46\n",
            "0\n"
          ],
          "name": "stdout"
        }
      ]
    },
    {
      "cell_type": "markdown",
      "metadata": {
        "id": "xJoRK1bnNtsY",
        "colab_type": "text"
      },
      "source": [
        "791A. Bear and Big Brother"
      ]
    },
    {
      "cell_type": "code",
      "metadata": {
        "id": "-bhdSIhoNzFw",
        "colab_type": "code",
        "outputId": "93fbb2ea-4442-4b8b-b493-82b36b28ef26",
        "colab": {
          "base_uri": "https://localhost:8080/",
          "height": 51
        }
      },
      "source": [
        "a,b = [int(x) for x in input().split()]\n",
        "count = 0\n",
        "while True:\n",
        "    a *= 3\n",
        "    b *= 2\n",
        "    count +=1\n",
        "    if a > b:\n",
        "        break\n",
        "print(count)"
      ],
      "execution_count": 0,
      "outputs": [
        {
          "output_type": "stream",
          "text": [
            "1 1\n",
            "1\n"
          ],
          "name": "stdout"
        }
      ]
    },
    {
      "cell_type": "markdown",
      "metadata": {
        "id": "1zBLVl1QkbXX",
        "colab_type": "text"
      },
      "source": [
        "996A. Hit the Lottery\n",
        "\n",
        "Allen has a LOT of money. He has n dollars in the bank. For security reasons, he wants to withdraw it in cash (we will not disclose the reasons here). The denominations for dollar bills are 1, 5, 10, 20, 100. What is the minimum number of bills Allen could receive after withdrawing his entire balance?\n",
        "\n",
        "Input\n",
        "The first and only line of input contains a single integer n (1≤n≤109).\n",
        "\n",
        "Output\n",
        "Output the minimum number of bills that Allen could receive."
      ]
    },
    {
      "cell_type": "code",
      "metadata": {
        "id": "M8YpcoW_kiHd",
        "colab_type": "code",
        "colab": {}
      },
      "source": [
        "target = int(input())\n",
        "\n",
        "amount = [target+1]*(target+1)\n",
        "denom = [1,5,10,20,100]\n",
        "amount[0]=0\n",
        "for i in range(1,len(amount)):\n",
        "    for j in denom:\n",
        "        if(j<=i):\n",
        "            amount[i]=min((amount[i-j]+1),amount[i])\n",
        "            print(amount[i])\n",
        "        else:\n",
        "            break\n",
        "print(amount[target])\n"
      ],
      "execution_count": 0,
      "outputs": []
    },
    {
      "cell_type": "markdown",
      "metadata": {
        "id": "uDwjMeA2658Y",
        "colab_type": "text"
      },
      "source": [
        "B. K-th Beautiful String\n",
        "time limit per test1 second\n",
        "memory limit per test256 megabytes\n",
        "inputstandard input\n",
        "outputstandard output\n",
        "For the given integer n (n>2) let's write down all the strings of length n which contain n−2 letters 'a' and two letters 'b' in lexicographical (alphabetical) order.\n",
        "\n",
        "Recall that the string s of length n is lexicographically less than string t of length n, if there exists such i (1≤i≤n), that si<ti, and for any j (1≤j<i) sj=tj. The lexicographic comparison of strings is implemented by the operator < in modern programming languages.\n",
        "\n",
        "For example, if n=5 the strings are (the order does matter):\n",
        "\n",
        "aaabb\n",
        "aabab\n",
        "aabba\n",
        "abaab\n",
        "ababa\n",
        "abbaa\n",
        "baaab\n",
        "baaba\n",
        "babaa\n",
        "bbaaa\n",
        "It is easy to show that such a list of strings will contain exactly n⋅(n−1)2 strings.\n",
        "\n",
        "You are given n (n>2) and k (1≤k≤n⋅(n−1)2). Print the k-th string from the list.\n",
        "\n",
        "Input\n",
        "The input contains one or more test cases.\n",
        "\n",
        "The first line contains one integer t (1≤t≤104) — the number of test cases in the test. Then t test cases follow.\n",
        "\n",
        "Each test case is written on the the separate line containing two integers n and k (3≤n≤105,1≤k≤min(2⋅109,n⋅(n−1)2).\n",
        "\n",
        "The sum of values n over all test cases in the test doesn't exceed 105.\n",
        "\n",
        "Output\n",
        "For each test case print the k-th string from the list of all described above strings of length n. Strings in the list are sorted lexicographically (alphabetically)."
      ]
    },
    {
      "cell_type": "code",
      "metadata": {
        "id": "X_4B3ODe7Ekm",
        "colab_type": "code",
        "outputId": "6df6c1e7-985d-4d2b-b3d5-420b67d0d4e1",
        "colab": {
          "base_uri": "https://localhost:8080/",
          "height": 299
        }
      },
      "source": [
        "from itertools import permutations\n",
        "\n",
        "t = int(input())\n",
        "while(t>0):\n",
        "    i,k = [int(x) for x in input().split()]\n",
        "\n",
        "    s=\"bb\"\n",
        "    s1= \"a\"*(i-2)\n",
        "    s = s1+s\n",
        "    l = list(permutations(s))\n",
        "    l = set(l)\n",
        "    fl=sorted(l)\n",
        "    print(\"\".join(fl[k-1]))"
      ],
      "execution_count": 0,
      "outputs": [
        {
          "output_type": "stream",
          "text": [
            "1\n",
            "5 1\n",
            "aaabb\n",
            "1\n"
          ],
          "name": "stdout"
        },
        {
          "output_type": "error",
          "ename": "ValueError",
          "evalue": "ignored",
          "traceback": [
            "\u001b[0;31m---------------------------------------------------------------------------\u001b[0m",
            "\u001b[0;31mValueError\u001b[0m                                Traceback (most recent call last)",
            "\u001b[0;32m<ipython-input-3-ebe9687d5c9b>\u001b[0m in \u001b[0;36m<module>\u001b[0;34m()\u001b[0m\n\u001b[1;32m      3\u001b[0m \u001b[0mt\u001b[0m \u001b[0;34m=\u001b[0m \u001b[0mint\u001b[0m\u001b[0;34m(\u001b[0m\u001b[0minput\u001b[0m\u001b[0;34m(\u001b[0m\u001b[0;34m)\u001b[0m\u001b[0;34m)\u001b[0m\u001b[0;34m\u001b[0m\u001b[0;34m\u001b[0m\u001b[0m\n\u001b[1;32m      4\u001b[0m \u001b[0;32mwhile\u001b[0m\u001b[0;34m(\u001b[0m\u001b[0mt\u001b[0m\u001b[0;34m>\u001b[0m\u001b[0;36m0\u001b[0m\u001b[0;34m)\u001b[0m\u001b[0;34m:\u001b[0m\u001b[0;34m\u001b[0m\u001b[0;34m\u001b[0m\u001b[0m\n\u001b[0;32m----> 5\u001b[0;31m     \u001b[0mi\u001b[0m\u001b[0;34m,\u001b[0m\u001b[0mk\u001b[0m \u001b[0;34m=\u001b[0m \u001b[0;34m[\u001b[0m\u001b[0mint\u001b[0m\u001b[0;34m(\u001b[0m\u001b[0mx\u001b[0m\u001b[0;34m)\u001b[0m \u001b[0;32mfor\u001b[0m \u001b[0mx\u001b[0m \u001b[0;32min\u001b[0m \u001b[0minput\u001b[0m\u001b[0;34m(\u001b[0m\u001b[0;34m)\u001b[0m\u001b[0;34m.\u001b[0m\u001b[0msplit\u001b[0m\u001b[0;34m(\u001b[0m\u001b[0;34m)\u001b[0m\u001b[0;34m]\u001b[0m\u001b[0;34m\u001b[0m\u001b[0;34m\u001b[0m\u001b[0m\n\u001b[0m\u001b[1;32m      6\u001b[0m \u001b[0;34m\u001b[0m\u001b[0m\n\u001b[1;32m      7\u001b[0m     \u001b[0ms\u001b[0m\u001b[0;34m=\u001b[0m\u001b[0;34m\"bb\"\u001b[0m\u001b[0;34m\u001b[0m\u001b[0;34m\u001b[0m\u001b[0m\n",
            "\u001b[0;31mValueError\u001b[0m: not enough values to unpack (expected 2, got 1)"
          ]
        }
      ]
    },
    {
      "cell_type": "code",
      "metadata": {
        "id": "CAZFvg_J_cuY",
        "colab_type": "code",
        "outputId": "d95219e5-f078-4bc2-9173-2340125c10d0",
        "colab": {
          "base_uri": "https://localhost:8080/",
          "height": 272
        }
      },
      "source": [
        "for _ in[0]*int(input()):\n",
        "    i,k = [int(x) for x in input().split()]\n",
        "    s=\"bb\"\n",
        "    s1= \"a\"*(i-2)\n",
        "    s = s1+s\n",
        "\n",
        "    while(k>1):\n",
        "        x_i = -1\n",
        "        for i in range(len(s)-1):\n",
        "            if s[i]<s[i+1]:\n",
        "                x_i = i\n",
        "        #print(x_i)\n",
        "        x_j = -1\n",
        "        for j in range(len(s)):\n",
        "            if s[x_i] < s[j]:\n",
        "                x_j = j\n",
        "        #print(x_j)\n",
        "        s = list(s)\n",
        "        s[x_i],s[x_j] = s[x_j],s[x_i]\n",
        "        #print(s)\n",
        "        n_s = s[x_i+1:]\n",
        "        n_s = n_s[::-1]\n",
        "        #print(n_s)\n",
        "        s = s[:x_i+1]+n_s\n",
        "        s = \"\".join(s)\n",
        "        #print(s)\n",
        "        #print('one_done')\n",
        "        k -= 1\n",
        "    print(s)\n"
      ],
      "execution_count": 0,
      "outputs": [
        {
          "output_type": "stream",
          "text": [
            "7\n",
            "5 1\n",
            "aaabb\n",
            "5 2\n",
            "aabab\n",
            "5 8\n",
            "baaba\n",
            "5 10\n",
            "bbaaa\n",
            "3 1\n",
            "abb\n",
            "3 2\n",
            "bab\n",
            "20 100\n",
            "aaaaabaaaaabaaaaaaaa\n"
          ],
          "name": "stdout"
        }
      ]
    },
    {
      "cell_type": "markdown",
      "metadata": {
        "id": "VV-R9l3msavT",
        "colab_type": "text"
      },
      "source": [
        "B. Dreamoon Likes Permutations"
      ]
    },
    {
      "cell_type": "code",
      "metadata": {
        "id": "WmJq8TdOsexq",
        "colab_type": "code",
        "outputId": "f5e885f6-a9b8-4b88-dc8b-2c41a22817eb",
        "colab": {
          "base_uri": "https://localhost:8080/",
          "height": 170
        }
      },
      "source": [
        "for _ in range(int(input())):\n",
        "    n=int(input())\n",
        "    ar=list(map(int,input().split()))\n",
        "    l1=max(ar)\n",
        "    print(l1)\n",
        "    l2=n-l1\n",
        "    se1=set({})\n",
        "    se2=set({})\n",
        "    for i in range(1,l1+1):\n",
        "        se1.add(i)\n",
        "    for j in range(1,(n-(l1))+1):\n",
        "        se2.add(j)\n",
        "    k=0\n",
        "    li=[]\n",
        "    print(ar[:l1])\n",
        "    print(ar[l1:])\n",
        "    if(se1==set(ar[:l1]) and se2==set(ar[l1:])):\n",
        "        k+=1\n",
        "        li.append([l1,l2])\n",
        "    if(se1==set(ar[-l1:]) and se2==set(ar[:-l1])):\n",
        "        if(l1!=l2):\n",
        "            k+=1\n",
        "            li.append([l2,l1])\n",
        "    print(k)\n",
        "    for z in range(k):\n",
        "        print(*li[z])"
      ],
      "execution_count": 0,
      "outputs": [
        {
          "output_type": "stream",
          "text": [
            "1\n",
            "5\n",
            "1 4 3 2 1\n",
            "4\n",
            "[1, 4, 3, 2]\n",
            "[1]\n",
            "2\n",
            "4 1\n",
            "1 4\n"
          ],
          "name": "stdout"
        }
      ]
    },
    {
      "cell_type": "markdown",
      "metadata": {
        "id": "78n8um81GzYb",
        "colab_type": "text"
      },
      "source": [
        "B. Bad Prices\n",
        "time limit per test1 second\n",
        "memory limit per test256 megabytes\n",
        "inputstandard input\n",
        "outputstandard output\n",
        "Polycarp analyzes the prices of the new berPhone. At his disposal are the prices for n last days: a1,a2,…,an, where ai is the price of berPhone on the day i.\n",
        "\n",
        "Polycarp considers the price on the day i to be bad if later (that is, a day with a greater number) berPhone was sold at a lower price. For example, if n=6 and a=[3,9,4,6,7,5], then the number of days with a bad price is 3 — these are days 2 (a2=9), 4 (a4=6) and 5 (a5=7).\n",
        "\n",
        "Print the number of days with a bad price.\n",
        "\n",
        "You have to answer t independent data sets.\n",
        "\n",
        "Input\n",
        "The first line contains an integer t (1≤t≤10000) — the number of sets of input data in the test. Input data sets must be processed independently, one after another.\n",
        "\n",
        "Each input data set consists of two lines. The first line contains an integer n (1≤n≤150000) — the number of days. The second line contains n integers a1,a2,…,an (1≤ai≤106), where ai is the price on the i-th day.\n",
        "\n",
        "It is guaranteed that the sum of n over all data sets in the test does not exceed 150000.\n",
        "\n",
        "Output\n",
        "Print t integers, the j-th of which should be equal to the number of days with a bad price in the j-th input data set."
      ]
    },
    {
      "cell_type": "code",
      "metadata": {
        "id": "YFSoymmPG5PS",
        "colab_type": "code",
        "outputId": "b155cfa1-2845-4e1d-dde3-b99084e48f46",
        "colab": {
          "base_uri": "https://localhost:8080/",
          "height": 289
        }
      },
      "source": [
        "t = int(input())\n",
        "\n",
        "while(t):\n",
        "    n =  int(input())\n",
        "    d = [int(x) for x in input().split()]\n",
        "    c = 0\n",
        "    m = d[n-1]\n",
        "    for i in range(n-2,-1,-1):\n",
        "        if(d[i] > m):\n",
        "            c += 1\n",
        "        m = min(d[i],m)\n",
        "    print(c)\n",
        "    t -= 1"
      ],
      "execution_count": 0,
      "outputs": [
        {
          "output_type": "stream",
          "text": [
            "5\n",
            "6\n",
            "3 9 4 6 7 5\n",
            "3\n",
            "1\n",
            "1000000\n",
            "0\n",
            "2\n",
            "2 1\n",
            "1\n",
            "10\n",
            "31 41 59 26 53 58 97 93 23 84\n",
            "8\n",
            "7\n",
            "3 2 1 2 3 4 5\n",
            "2\n"
          ],
          "name": "stdout"
        }
      ]
    },
    {
      "cell_type": "markdown",
      "metadata": {
        "id": "iScxhe-2CSeL",
        "colab_type": "text"
      },
      "source": [
        "B. Make Product Equal One\n",
        "time limit per test1 second\n",
        "memory limit per test256 megabytes\n",
        "inputstandard input\n",
        "outputstandard output\n",
        "You are given n numbers a1,a2,…,an. With a cost of one coin you can perform the following operation:\n",
        "\n",
        "Choose one of these numbers and add or subtract 1 from it.\n",
        "\n",
        "In particular, we can apply this operation to the same number several times.\n",
        "\n",
        "We want to make the product of all these numbers equal to 1, in other words, we want a1⋅a2 … ⋅an=1.\n",
        "\n",
        "For example, for n=3 and numbers [1,−3,0] we can make product equal to 1 in 3 coins: add 1 to second element, add 1 to second element again, subtract 1 from third element, so that array becomes [1,−1,−1]. And 1⋅(−1)⋅(−1)=1.\n",
        "\n",
        "What is the minimum cost we will have to pay to do that?\n",
        "\n",
        "Input\n",
        "The first line contains a single integer n (1≤n≤105) — the number of numbers.\n",
        "\n",
        "The second line contains n integers a1,a2,…,an (−109≤ai≤109) — the numbers.\n",
        "\n",
        "Output\n",
        "Output a single number — the minimal number of coins you need to pay to make the product equal to 1."
      ]
    },
    {
      "cell_type": "code",
      "metadata": {
        "id": "Pf5nXGAjCRym",
        "colab_type": "code",
        "outputId": "0f50a248-53f5-472c-e167-8f527ee90913",
        "colab": {
          "base_uri": "https://localhost:8080/",
          "height": 68
        }
      },
      "source": [
        "n = int(input())\n",
        "cn = [int(x) for x in input().split()]\n",
        "zc = []\n",
        "nc = []\n",
        "pc = []\n",
        "\n",
        "for i in cn:\n",
        "    if(i>0):\n",
        "        pc.append(i)\n",
        "    elif(i<0):\n",
        "        nc.append(i)\n",
        "    else:\n",
        "        zc.append(i)\n",
        "\n",
        "cost_c = 0\n",
        "\n",
        "for i in pc:\n",
        "    cost_c += i-1\n",
        "for i in nc:\n",
        "    cost_c += -1-i\n",
        "if(zc):\n",
        "    cost_c += len(zc)\n",
        "elif len(nc)%2 == 1:\n",
        "    cost_c += 2\n",
        "print(cost_c)"
      ],
      "execution_count": 0,
      "outputs": [
        {
          "output_type": "stream",
          "text": [
            "3\n",
            "-5 5 3\n",
            "12\n"
          ],
          "name": "stdout"
        }
      ]
    },
    {
      "cell_type": "markdown",
      "metadata": {
        "id": "_wYY7r5ZJP6w",
        "colab_type": "text"
      },
      "source": [
        "B. Mahmoud and a Triangle\n",
        "time limit per test2 seconds\n",
        "memory limit per test256 megabytes\n",
        "inputstandard input\n",
        "outputstandard output\n",
        "Mahmoud has n line segments, the i-th of them has length ai. Ehab challenged him to use exactly 3 line segments to form a non-degenerate triangle. Mahmoud doesn't accept challenges unless he is sure he can win, so he asked you to tell him if he should accept the challenge. Given the lengths of the line segments, check if he can choose exactly 3 of them to form a non-degenerate triangle.\n",
        "\n",
        "Mahmoud should use exactly 3 line segments, he can't concatenate two line segments or change any length. A non-degenerate triangle is a triangle with positive area.\n",
        "\n",
        "Input\n",
        "The first line contains single integer n (3 ≤ n ≤ 105) — the number of line segments Mahmoud has.\n",
        "\n",
        "The second line contains n integers a1, a2, ..., an (1 ≤ ai ≤ 109) — the lengths of line segments Mahmoud has.\n",
        "\n",
        "Output\n",
        "In the only line print \"YES\" if he can choose exactly three line segments and form a non-degenerate triangle with them, and \"NO\" otherwise."
      ]
    },
    {
      "cell_type": "code",
      "metadata": {
        "id": "u76rlxrtJTbU",
        "colab_type": "code",
        "outputId": "aeaccf7c-96c5-4125-82e4-a5faf4fc7cdd",
        "colab": {
          "base_uri": "https://localhost:8080/",
          "height": 547
        }
      },
      "source": [
        "n = int(input())\n",
        "a = [int(x) for x in input().split()]\n",
        "\n",
        "a.sort()\n",
        "s = \"NO\"\n",
        "for i in range(n-2):\n",
        "    if a[i]+a[i+1]>a[i+2]:\n",
        "        s = \"YES\"\n",
        "        break\n",
        "print(s)"
      ],
      "execution_count": 0,
      "outputs": [
        {
          "output_type": "error",
          "ename": "KeyboardInterrupt",
          "evalue": "ignored",
          "traceback": [
            "\u001b[0;31m---------------------------------------------------------------------------\u001b[0m",
            "\u001b[0;31mKeyboardInterrupt\u001b[0m                         Traceback (most recent call last)",
            "\u001b[0;32m/usr/local/lib/python3.6/dist-packages/ipykernel/kernelbase.py\u001b[0m in \u001b[0;36m_input_request\u001b[0;34m(self, prompt, ident, parent, password)\u001b[0m\n\u001b[1;32m    728\u001b[0m             \u001b[0;32mtry\u001b[0m\u001b[0;34m:\u001b[0m\u001b[0;34m\u001b[0m\u001b[0;34m\u001b[0m\u001b[0m\n\u001b[0;32m--> 729\u001b[0;31m                 \u001b[0mident\u001b[0m\u001b[0;34m,\u001b[0m \u001b[0mreply\u001b[0m \u001b[0;34m=\u001b[0m \u001b[0mself\u001b[0m\u001b[0;34m.\u001b[0m\u001b[0msession\u001b[0m\u001b[0;34m.\u001b[0m\u001b[0mrecv\u001b[0m\u001b[0;34m(\u001b[0m\u001b[0mself\u001b[0m\u001b[0;34m.\u001b[0m\u001b[0mstdin_socket\u001b[0m\u001b[0;34m,\u001b[0m \u001b[0;36m0\u001b[0m\u001b[0;34m)\u001b[0m\u001b[0;34m\u001b[0m\u001b[0;34m\u001b[0m\u001b[0m\n\u001b[0m\u001b[1;32m    730\u001b[0m             \u001b[0;32mexcept\u001b[0m \u001b[0mException\u001b[0m\u001b[0;34m:\u001b[0m\u001b[0;34m\u001b[0m\u001b[0;34m\u001b[0m\u001b[0m\n",
            "\u001b[0;32m/usr/local/lib/python3.6/dist-packages/jupyter_client/session.py\u001b[0m in \u001b[0;36mrecv\u001b[0;34m(self, socket, mode, content, copy)\u001b[0m\n\u001b[1;32m    802\u001b[0m         \u001b[0;32mtry\u001b[0m\u001b[0;34m:\u001b[0m\u001b[0;34m\u001b[0m\u001b[0;34m\u001b[0m\u001b[0m\n\u001b[0;32m--> 803\u001b[0;31m             \u001b[0mmsg_list\u001b[0m \u001b[0;34m=\u001b[0m \u001b[0msocket\u001b[0m\u001b[0;34m.\u001b[0m\u001b[0mrecv_multipart\u001b[0m\u001b[0;34m(\u001b[0m\u001b[0mmode\u001b[0m\u001b[0;34m,\u001b[0m \u001b[0mcopy\u001b[0m\u001b[0;34m=\u001b[0m\u001b[0mcopy\u001b[0m\u001b[0;34m)\u001b[0m\u001b[0;34m\u001b[0m\u001b[0;34m\u001b[0m\u001b[0m\n\u001b[0m\u001b[1;32m    804\u001b[0m         \u001b[0;32mexcept\u001b[0m \u001b[0mzmq\u001b[0m\u001b[0;34m.\u001b[0m\u001b[0mZMQError\u001b[0m \u001b[0;32mas\u001b[0m \u001b[0me\u001b[0m\u001b[0;34m:\u001b[0m\u001b[0;34m\u001b[0m\u001b[0;34m\u001b[0m\u001b[0m\n",
            "\u001b[0;32m/usr/local/lib/python3.6/dist-packages/zmq/sugar/socket.py\u001b[0m in \u001b[0;36mrecv_multipart\u001b[0;34m(self, flags, copy, track)\u001b[0m\n\u001b[1;32m    474\u001b[0m         \"\"\"\n\u001b[0;32m--> 475\u001b[0;31m         \u001b[0mparts\u001b[0m \u001b[0;34m=\u001b[0m \u001b[0;34m[\u001b[0m\u001b[0mself\u001b[0m\u001b[0;34m.\u001b[0m\u001b[0mrecv\u001b[0m\u001b[0;34m(\u001b[0m\u001b[0mflags\u001b[0m\u001b[0;34m,\u001b[0m \u001b[0mcopy\u001b[0m\u001b[0;34m=\u001b[0m\u001b[0mcopy\u001b[0m\u001b[0;34m,\u001b[0m \u001b[0mtrack\u001b[0m\u001b[0;34m=\u001b[0m\u001b[0mtrack\u001b[0m\u001b[0;34m)\u001b[0m\u001b[0;34m]\u001b[0m\u001b[0;34m\u001b[0m\u001b[0;34m\u001b[0m\u001b[0m\n\u001b[0m\u001b[1;32m    476\u001b[0m         \u001b[0;31m# have first part already, only loop while more to receive\u001b[0m\u001b[0;34m\u001b[0m\u001b[0;34m\u001b[0m\u001b[0;34m\u001b[0m\u001b[0m\n",
            "\u001b[0;32mzmq/backend/cython/socket.pyx\u001b[0m in \u001b[0;36mzmq.backend.cython.socket.Socket.recv\u001b[0;34m()\u001b[0m\n",
            "\u001b[0;32mzmq/backend/cython/socket.pyx\u001b[0m in \u001b[0;36mzmq.backend.cython.socket.Socket.recv\u001b[0;34m()\u001b[0m\n",
            "\u001b[0;32mzmq/backend/cython/socket.pyx\u001b[0m in \u001b[0;36mzmq.backend.cython.socket._recv_copy\u001b[0;34m()\u001b[0m\n",
            "\u001b[0;32m/usr/local/lib/python3.6/dist-packages/zmq/backend/cython/checkrc.pxd\u001b[0m in \u001b[0;36mzmq.backend.cython.checkrc._check_rc\u001b[0;34m()\u001b[0m\n",
            "\u001b[0;31mKeyboardInterrupt\u001b[0m: ",
            "\nDuring handling of the above exception, another exception occurred:\n",
            "\u001b[0;31mKeyboardInterrupt\u001b[0m                         Traceback (most recent call last)",
            "\u001b[0;32m<ipython-input-15-cdc42dbbdd28>\u001b[0m in \u001b[0;36m<module>\u001b[0;34m()\u001b[0m\n\u001b[0;32m----> 1\u001b[0;31m \u001b[0mn\u001b[0m \u001b[0;34m=\u001b[0m \u001b[0mint\u001b[0m\u001b[0;34m(\u001b[0m\u001b[0minput\u001b[0m\u001b[0;34m(\u001b[0m\u001b[0;34m)\u001b[0m\u001b[0;34m)\u001b[0m\u001b[0;34m\u001b[0m\u001b[0;34m\u001b[0m\u001b[0m\n\u001b[0m\u001b[1;32m      2\u001b[0m \u001b[0ma\u001b[0m \u001b[0;34m=\u001b[0m \u001b[0;34m[\u001b[0m\u001b[0mint\u001b[0m\u001b[0;34m(\u001b[0m\u001b[0mx\u001b[0m\u001b[0;34m)\u001b[0m \u001b[0;32mfor\u001b[0m \u001b[0mx\u001b[0m \u001b[0;32min\u001b[0m \u001b[0minput\u001b[0m\u001b[0;34m(\u001b[0m\u001b[0;34m)\u001b[0m\u001b[0;34m.\u001b[0m\u001b[0msplit\u001b[0m\u001b[0;34m(\u001b[0m\u001b[0;34m)\u001b[0m\u001b[0;34m]\u001b[0m\u001b[0;34m\u001b[0m\u001b[0;34m\u001b[0m\u001b[0m\n\u001b[1;32m      3\u001b[0m \u001b[0;34m\u001b[0m\u001b[0m\n\u001b[1;32m      4\u001b[0m \u001b[0ma\u001b[0m\u001b[0;34m.\u001b[0m\u001b[0msort\u001b[0m\u001b[0;34m(\u001b[0m\u001b[0;34m)\u001b[0m\u001b[0;34m\u001b[0m\u001b[0;34m\u001b[0m\u001b[0m\n\u001b[1;32m      5\u001b[0m \u001b[0ms\u001b[0m \u001b[0;34m=\u001b[0m \u001b[0;34m\"NO\"\u001b[0m\u001b[0;34m\u001b[0m\u001b[0;34m\u001b[0m\u001b[0m\n",
            "\u001b[0;32m/usr/local/lib/python3.6/dist-packages/ipykernel/kernelbase.py\u001b[0m in \u001b[0;36mraw_input\u001b[0;34m(self, prompt)\u001b[0m\n\u001b[1;32m    702\u001b[0m             \u001b[0mself\u001b[0m\u001b[0;34m.\u001b[0m\u001b[0m_parent_ident\u001b[0m\u001b[0;34m,\u001b[0m\u001b[0;34m\u001b[0m\u001b[0;34m\u001b[0m\u001b[0m\n\u001b[1;32m    703\u001b[0m             \u001b[0mself\u001b[0m\u001b[0;34m.\u001b[0m\u001b[0m_parent_header\u001b[0m\u001b[0;34m,\u001b[0m\u001b[0;34m\u001b[0m\u001b[0;34m\u001b[0m\u001b[0m\n\u001b[0;32m--> 704\u001b[0;31m             \u001b[0mpassword\u001b[0m\u001b[0;34m=\u001b[0m\u001b[0;32mFalse\u001b[0m\u001b[0;34m,\u001b[0m\u001b[0;34m\u001b[0m\u001b[0;34m\u001b[0m\u001b[0m\n\u001b[0m\u001b[1;32m    705\u001b[0m         )\n\u001b[1;32m    706\u001b[0m \u001b[0;34m\u001b[0m\u001b[0m\n",
            "\u001b[0;32m/usr/local/lib/python3.6/dist-packages/ipykernel/kernelbase.py\u001b[0m in \u001b[0;36m_input_request\u001b[0;34m(self, prompt, ident, parent, password)\u001b[0m\n\u001b[1;32m    732\u001b[0m             \u001b[0;32mexcept\u001b[0m \u001b[0mKeyboardInterrupt\u001b[0m\u001b[0;34m:\u001b[0m\u001b[0;34m\u001b[0m\u001b[0;34m\u001b[0m\u001b[0m\n\u001b[1;32m    733\u001b[0m                 \u001b[0;31m# re-raise KeyboardInterrupt, to truncate traceback\u001b[0m\u001b[0;34m\u001b[0m\u001b[0;34m\u001b[0m\u001b[0;34m\u001b[0m\u001b[0m\n\u001b[0;32m--> 734\u001b[0;31m                 \u001b[0;32mraise\u001b[0m \u001b[0mKeyboardInterrupt\u001b[0m\u001b[0;34m\u001b[0m\u001b[0;34m\u001b[0m\u001b[0m\n\u001b[0m\u001b[1;32m    735\u001b[0m             \u001b[0;32melse\u001b[0m\u001b[0;34m:\u001b[0m\u001b[0;34m\u001b[0m\u001b[0;34m\u001b[0m\u001b[0m\n\u001b[1;32m    736\u001b[0m                 \u001b[0;32mbreak\u001b[0m\u001b[0;34m\u001b[0m\u001b[0;34m\u001b[0m\u001b[0m\n",
            "\u001b[0;31mKeyboardInterrupt\u001b[0m: "
          ]
        }
      ]
    },
    {
      "cell_type": "markdown",
      "metadata": {
        "id": "j8BWC3vAUJdE",
        "colab_type": "text"
      },
      "source": [
        "B. CopyCopyCopyCopyCopy\n",
        "time limit per test1 second\n",
        "memory limit per test256 megabytes\n",
        "inputstandard input\n",
        "outputstandard output\n",
        "Ehab has an array a of length n. He has just enough free time to make a new array consisting of n copies of the old array, written back-to-back. What will be the length of the new array's longest increasing subsequence?\n",
        "\n",
        "A sequence a is a subsequence of an array b if a can be obtained from b by deletion of several (possibly, zero or all) elements. The longest increasing subsequence of an array is the longest subsequence such that its elements are ordered in strictly increasing order.\n",
        "\n",
        "Input\n",
        "The first line contains an integer t — the number of test cases you need to solve. The description of the test cases follows.\n",
        "\n",
        "The first line of each test case contains an integer n (1≤n≤105) — the number of elements in the array a.\n",
        "\n",
        "The second line contains n space-separated integers a1, a2, …, an (1≤ai≤109) — the elements of the array a.\n",
        "\n",
        "The sum of n across the test cases doesn't exceed 105.\n",
        "\n",
        "Output\n",
        "For each testcase, output the length of the longest increasing subsequence of a if you concatenate it to itself n times."
      ]
    },
    {
      "cell_type": "code",
      "metadata": {
        "id": "ijX6g7mfUMbu",
        "colab_type": "code",
        "outputId": "23f2054c-4cd5-45c1-edad-4522df57aef8",
        "colab": {
          "base_uri": "https://localhost:8080/",
          "height": 136
        }
      },
      "source": [
        "t = int(input())\n",
        "\n",
        "for i in range(t):\n",
        "    n = int(input())\n",
        "    a = [int(x) for x in input().split()]\n",
        "    print(len(set(a)))"
      ],
      "execution_count": 0,
      "outputs": [
        {
          "output_type": "stream",
          "text": [
            "2\n",
            "3\n",
            "3 2 1\n",
            "3\n",
            "6\n",
            "3 1 4 1 5 9\n",
            "5\n"
          ],
          "name": "stdout"
        }
      ]
    },
    {
      "cell_type": "markdown",
      "metadata": {
        "id": "lgrOjSFmuTlz",
        "colab_type": "text"
      },
      "source": [
        "B. Teams Forming\n",
        "time limit per test1 second\n",
        "memory limit per test256 megabytes\n",
        "inputstandard input\n",
        "outputstandard output\n",
        "There are n students in a university. The number of students is even. The i-th student has programming skill equal to ai.\n",
        "\n",
        "The coach wants to form n2 teams. Each team should consist of exactly two students, and each student should belong to exactly one team. Two students can form a team only if their skills are equal (otherwise they cannot understand each other and cannot form a team).\n",
        "\n",
        "Students can solve problems to increase their skill. One solved problem increases the skill by one.\n",
        "\n",
        "The coach wants to know the minimum total number of problems students should solve to form exactly n2 teams (i.e. each pair of students should form a team). Your task is to find this number.\n",
        "\n",
        "Input\n",
        "The first line of the input contains one integer n (2≤n≤100) — the number of students. It is guaranteed that n is even.\n",
        "\n",
        "The second line of the input contains n integers a1,a2,…,an (1≤ai≤100), where ai is the skill of the i-th student.\n",
        "\n",
        "Output\n",
        "Print one number — the minimum total number of problems students should solve to form exactly n2 teams.\n"
      ]
    },
    {
      "cell_type": "code",
      "metadata": {
        "id": "7O8sq2R7uXSQ",
        "colab_type": "code",
        "outputId": "0955d124-d6cd-432d-e813-31a6c5736097",
        "colab": {
          "base_uri": "https://localhost:8080/",
          "height": 68
        }
      },
      "source": [
        "n = int(input())\n",
        "a = [int(x) for x in input().split()]\n",
        "a.sort()\n",
        "np = 0\n",
        "for i in range(0,n,2):\n",
        "    np += 2*a[i+1]-(a[i]+a[i+1])\n",
        "print(np)"
      ],
      "execution_count": 0,
      "outputs": [
        {
          "output_type": "stream",
          "text": [
            "2\n",
            "1 100\n",
            "99\n"
          ],
          "name": "stdout"
        }
      ]
    },
    {
      "cell_type": "markdown",
      "metadata": {
        "id": "juaYGtG0z3Lo",
        "colab_type": "text"
      },
      "source": [
        "B. Lovely Palindromes\n",
        "time limit per test1 second\n",
        "memory limit per test256 megabytes\n",
        "inputstandard input\n",
        "outputstandard output\n",
        "Pari has a friend who loves palindrome numbers. A palindrome number is a number that reads the same forward or backward. For example 12321, 100001 and 1 are palindrome numbers, while 112 and 1021 are not.\n",
        "\n",
        "Pari is trying to love them too, but only very special and gifted people can understand the beauty behind palindrome numbers. Pari loves integers with even length (i.e. the numbers with even number of digits), so she tries to see a lot of big palindrome numbers with even length (like a 2-digit 11 or 6-digit 122221), so maybe she could see something in them.\n",
        "\n",
        "Now Pari asks you to write a program that gets a huge integer n from the input and tells what is the n-th even-length positive palindrome number?\n",
        "\n",
        "Input\n",
        "The only line of the input contains a single integer n (1 ≤ n ≤ 10100 000).\n",
        "\n",
        "Output\n",
        "Print the n-th even-length palindrome number."
      ]
    },
    {
      "cell_type": "code",
      "metadata": {
        "id": "c1WYD_Uvz6eV",
        "colab_type": "code",
        "outputId": "a61eb9d8-a44a-4128-9518-d913dd80109d",
        "colab": {
          "base_uri": "https://localhost:8080/",
          "height": 51
        }
      },
      "source": [
        "n = input()\n",
        "print(n+n[::-1])"
      ],
      "execution_count": 0,
      "outputs": [
        {
          "output_type": "stream",
          "text": [
            "1\n",
            "11\n"
          ],
          "name": "stdout"
        }
      ]
    },
    {
      "cell_type": "markdown",
      "metadata": {
        "id": "05AJ-TOlvhoY",
        "colab_type": "text"
      },
      "source": [
        "B. File Name"
      ]
    },
    {
      "cell_type": "code",
      "metadata": {
        "id": "sYGPMlwyvg-m",
        "colab_type": "code",
        "outputId": "9a7ce033-cf3a-4b4b-c706-96bd87c9260a",
        "colab": {
          "base_uri": "https://localhost:8080/",
          "height": 68
        }
      },
      "source": [
        "n = int(input())\n",
        "s = input()\n",
        "\n",
        "\n",
        "if 'xxx' in s:\n",
        "    while True:\n",
        "        s=s.replace(\"xxx\",\"xx\")\n",
        "        if 'xxx' in s:\n",
        "            continue\n",
        "        else:\n",
        "            break\n",
        "\n",
        "print(n-len(s))\n"
      ],
      "execution_count": 0,
      "outputs": [
        {
          "output_type": "stream",
          "text": [
            "10\n",
            "xxxxxxxxxx\n",
            "8\n"
          ],
          "name": "stdout"
        }
      ]
    },
    {
      "cell_type": "markdown",
      "metadata": {
        "id": "OY0KQDaMwZs4",
        "colab_type": "text"
      },
      "source": [
        "B. Sorted Adjacent Differences\n",
        "time limit per test1 second\n",
        "memory limit per test256 megabytes\n",
        "inputstandard input\n",
        "outputstandard output\n",
        "You have array of n numbers a1,a2,…,an.\n",
        "\n",
        "Rearrange these numbers to satisfy |a1−a2|≤|a2−a3|≤…≤|an−1−an|, where |x| denotes absolute value of x. It's always possible to find such rearrangement.\n",
        "\n",
        "Note that all numbers in a are not necessarily different. In other words, some numbers of a may be same.\n",
        "\n",
        "You have to answer independent t test cases.\n",
        "\n",
        "Input\n",
        "The first line contains a single integer t (1≤t≤104) — the number of test cases.\n",
        "\n",
        "The first line of each test case contains single integer n (3≤n≤105) — the length of array a. It is guaranteed that the sum of values of n over all test cases in the input does not exceed 105.\n",
        "\n",
        "The second line of each test case contains n integers a1,a2,…,an (−109≤ai≤109).\n",
        "\n",
        "Output\n",
        "For each test case, print the rearranged version of array a which satisfies given condition. If there are multiple valid rearrangements, print any of them."
      ]
    },
    {
      "cell_type": "markdown",
      "metadata": {
        "id": "hg4-QfD6wdWj",
        "colab_type": "text"
      },
      "source": [
        "t = int()"
      ]
    },
    {
      "cell_type": "code",
      "metadata": {
        "id": "ldMGnyYXwpbL",
        "colab_type": "code",
        "outputId": "118da826-891a-407d-d81c-4231a1324a24",
        "colab": {
          "base_uri": "https://localhost:8080/",
          "height": 119
        }
      },
      "source": [
        "t = int(input())\n",
        "for q in range(t):\n",
        "    n = int(input())\n",
        "    arr = [int(x) for x in input().split()]\n",
        "    arr.sort()\n",
        "    while len(arr)>0:\n",
        "        print(arr.pop(len(arr)//2),end=\" \")"
      ],
      "execution_count": 0,
      "outputs": [
        {
          "output_type": "stream",
          "text": [
            "2\n",
            "6\n",
            "5 -2 4 8 6 5\n",
            "5 5 6 4 8 -2 4\n",
            "8 1 4 2\n",
            "4 2 8 1 "
          ],
          "name": "stdout"
        }
      ]
    },
    {
      "cell_type": "markdown",
      "metadata": {
        "id": "YrBCJGhmQfGJ",
        "colab_type": "text"
      },
      "source": [
        "The dragon has a hit point of x initially. When its hit point goes to 0 or under 0, it will be defeated. In order to defeat the dragon, Kana can cast the two following types of spells.\n",
        "\n",
        "Void Absorption\n",
        "Assume that the dragon's current hit point is h, after casting this spell its hit point will become ⌊h2⌋+10. Here ⌊h2⌋ denotes h divided by two, rounded down.\n",
        "\n",
        "Lightning Strike\n",
        "This spell will decrease the dragon's hit point by 10. Assume that the dragon's current hit point is h, after casting this spell its hit point will be lowered to h−10.\n",
        "\n",
        "Due to some reasons Kana can only cast no more than n Void Absorptions and m Lightning Strikes. She can cast the spells in any order and doesn't have to cast all the spells. Kana isn't good at math, so you are going to help her to find out whether it is possible to defeat the dragon.\n",
        "\n",
        "Input\n",
        "The first line contains a single integer t (1≤t≤1000)  — the number of test cases.\n",
        "\n",
        "The next t lines describe test cases. For each test case the only line contains three integers x, n, m (1≤x≤105, 0≤n,m≤30)  — the dragon's intitial hit point, the maximum number of Void Absorptions and Lightning Strikes Kana can cast respectively.\n",
        "\n",
        "Output\n",
        "If it is possible to defeat the dragon, print \"YES\" (without quotes). Otherwise, print \"NO\" (without quotes).\n",
        "\n",
        "You can print each letter in any case (upper or lower)."
      ]
    },
    {
      "cell_type": "code",
      "metadata": {
        "id": "hMZDNgyNQiMv",
        "colab_type": "code",
        "outputId": "856dbf4f-e279-4016-8415-9d71128d7ce2",
        "colab": {
          "base_uri": "https://localhost:8080/",
          "height": 68
        }
      },
      "source": [
        "for _ in range(int(input())):\n",
        "    a,n,m = [int(x) for x in input().split()]\n",
        "    \n",
        "    while n:\n",
        "        a = min(a//2+10,a)\n",
        "        n -= 1\n",
        "    a = a - m*10\n",
        "    if a <= 0:\n",
        "        print(\"yes\")\n",
        "\n",
        "    else :\n",
        "        print(\"no\")"
      ],
      "execution_count": 0,
      "outputs": [
        {
          "output_type": "stream",
          "text": [
            "1\n",
            "10 9 1\n",
            "yes\n"
          ],
          "name": "stdout"
        }
      ]
    },
    {
      "cell_type": "markdown",
      "metadata": {
        "id": "yx5SUz09DVa2",
        "colab_type": "text"
      },
      "source": [
        "A. Frog Jumping\n",
        "time limit per test1 second\n",
        "memory limit per test256 megabytes\n",
        "inputstandard input\n",
        "outputstandard output\n",
        "A frog is currently at the point 0 on a coordinate axis Ox. It jumps by the following algorithm: the first jump is a units to the right, the second jump is b units to the left, the third jump is a units to the right, the fourth jump is b units to the left, and so on.\n",
        "\n",
        "Formally:\n",
        "\n",
        "if the frog has jumped an even number of times (before the current jump), it jumps from its current position x to position x+a;\n",
        "otherwise it jumps from its current position x to position x−b.\n",
        "Your task is to calculate the position of the frog after k jumps.\n",
        "\n",
        "But... One more thing. You are watching t different frogs so you have to answer t independent queries.\n",
        "\n",
        "Input\n",
        "The first line of the input contains one integer t (1≤t≤1000) — the number of queries.\n",
        "\n",
        "Each of the next t lines contain queries (one query per line).\n",
        "\n",
        "The query is described as three space-separated integers a,b,k (1≤a,b,k≤109) — the lengths of two types of jumps and the number of jumps, respectively.\n",
        "\n",
        "Output\n",
        "Print t integers. The i-th integer should be the answer for the i-th query."
      ]
    },
    {
      "cell_type": "code",
      "metadata": {
        "id": "ctV26uVYDVED",
        "colab_type": "code",
        "outputId": "9649dee4-a0ac-4e61-e4a2-73a7bd8e9836",
        "colab": {
          "base_uri": "https://localhost:8080/",
          "height": 238
        }
      },
      "source": [
        "for _ in range(int(input())):\n",
        "    a,b,k = [int(x) for x in input().split()]\n",
        "\n",
        "    z = 0\n",
        "    if k%2==1:\n",
        "        z = 1\n",
        "\n",
        "    l = k//2 + z\n",
        "    res = (l*a) - ((k-l)*b)\n",
        "    print(res)"
      ],
      "execution_count": 0,
      "outputs": [
        {
          "output_type": "stream",
          "text": [
            "6\n",
            "5 2 3\n",
            "8\n",
            "100 1 4\n",
            "198\n",
            "1000000000 1 6\n",
            "2999999997\n",
            "1 10 5\n",
            "-17\n",
            "1 1 1000000000\n",
            "0\n",
            "1 1 999999999\n",
            "1\n"
          ],
          "name": "stdout"
        }
      ]
    }
  ]
}